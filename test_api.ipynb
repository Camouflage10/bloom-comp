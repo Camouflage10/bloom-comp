{
  "nbformat": 4,
  "nbformat_minor": 0,
  "metadata": {
    "colab": {
      "provenance": [],
      "authorship_tag": "ABX9TyOBtLg46av+XJqxpmeRfv9f",
      "include_colab_link": true
    },
    "kernelspec": {
      "name": "python3",
      "display_name": "Python 3"
    },
    "language_info": {
      "name": "python"
    }
  },
  "cells": [
    {
      "cell_type": "markdown",
      "metadata": {
        "id": "view-in-github",
        "colab_type": "text"
      },
      "source": [
        "<a href=\"https://colab.research.google.com/github/Camouflage10/bloom-comp/blob/main/test_api.ipynb\" target=\"_parent\"><img src=\"https://colab.research.google.com/assets/colab-badge.svg\" alt=\"Open In Colab\"/></a>"
      ]
    },
    {
      "cell_type": "code",
      "execution_count": null,
      "metadata": {
        "colab": {
          "base_uri": "https://localhost:8080/"
        },
        "id": "2Frz9yfiNu_t",
        "outputId": "cecdd717-3c6d-425f-e286-7389a68ee4c2"
      },
      "outputs": [
        {
          "output_type": "stream",
          "name": "stdout",
          "text": [
            "Looking in indexes: https://pypi.org/simple, https://us-python.pkg.dev/colab-wheels/public/simple/\n",
            "Collecting pystac_client\n",
            "  Downloading pystac_client-0.5.1-py3-none-any.whl (29 kB)\n",
            "Collecting pystac>=1.4.0\n",
            "  Downloading pystac-1.6.1-py3-none-any.whl (146 kB)\n",
            "\u001b[2K     \u001b[90m━━━━━━━━━━━━━━━━━━━━━━━━━━━━━━━━━━━━━━━\u001b[0m \u001b[32m146.0/146.0 KB\u001b[0m \u001b[31m8.0 MB/s\u001b[0m eta \u001b[36m0:00:00\u001b[0m\n",
            "\u001b[?25hCollecting requests>=2.27.1\n",
            "  Downloading requests-2.28.2-py3-none-any.whl (62 kB)\n",
            "\u001b[2K     \u001b[90m━━━━━━━━━━━━━━━━━━━━━━━━━━━━━━━━━━━━━━━━\u001b[0m \u001b[32m62.8/62.8 KB\u001b[0m \u001b[31m3.6 MB/s\u001b[0m eta \u001b[36m0:00:00\u001b[0m\n",
            "\u001b[?25hRequirement already satisfied: python-dateutil>=2.7.0 in /usr/local/lib/python3.8/dist-packages (from pystac_client) (2.8.2)\n",
            "Requirement already satisfied: six>=1.5 in /usr/local/lib/python3.8/dist-packages (from python-dateutil>=2.7.0->pystac_client) (1.15.0)\n",
            "Requirement already satisfied: idna<4,>=2.5 in /usr/local/lib/python3.8/dist-packages (from requests>=2.27.1->pystac_client) (2.10)\n",
            "Requirement already satisfied: urllib3<1.27,>=1.21.1 in /usr/local/lib/python3.8/dist-packages (from requests>=2.27.1->pystac_client) (1.24.3)\n",
            "Requirement already satisfied: charset-normalizer<4,>=2 in /usr/local/lib/python3.8/dist-packages (from requests>=2.27.1->pystac_client) (2.1.1)\n",
            "Requirement already satisfied: certifi>=2017.4.17 in /usr/local/lib/python3.8/dist-packages (from requests>=2.27.1->pystac_client) (2022.12.7)\n",
            "Installing collected packages: requests, pystac, pystac_client\n",
            "  Attempting uninstall: requests\n",
            "    Found existing installation: requests 2.25.1\n",
            "    Uninstalling requests-2.25.1:\n",
            "      Successfully uninstalled requests-2.25.1\n",
            "Successfully installed pystac-1.6.1 pystac_client-0.5.1 requests-2.28.2\n",
            "Looking in indexes: https://pypi.org/simple, https://us-python.pkg.dev/colab-wheels/public/simple/\n",
            "Collecting planetary_computer\n",
            "  Downloading planetary_computer-0.4.9-py3-none-any.whl (17 kB)\n",
            "Requirement already satisfied: requests>=2.25.1 in /usr/local/lib/python3.8/dist-packages (from planetary_computer) (2.28.2)\n",
            "Requirement already satisfied: click>=7.1 in /usr/local/lib/python3.8/dist-packages (from planetary_computer) (7.1.2)\n",
            "Requirement already satisfied: pydantic[dotenv]>=1.7.3 in /usr/local/lib/python3.8/dist-packages (from planetary_computer) (1.10.4)\n",
            "Requirement already satisfied: pystac>=1.0.0 in /usr/local/lib/python3.8/dist-packages (from planetary_computer) (1.6.1)\n",
            "Requirement already satisfied: pystac-client>=0.2.0 in /usr/local/lib/python3.8/dist-packages (from planetary_computer) (0.5.1)\n",
            "Requirement already satisfied: pytz>=2020.5 in /usr/local/lib/python3.8/dist-packages (from planetary_computer) (2022.7)\n",
            "Requirement already satisfied: typing-extensions>=4.2.0 in /usr/local/lib/python3.8/dist-packages (from pydantic[dotenv]>=1.7.3->planetary_computer) (4.4.0)\n",
            "Collecting python-dotenv>=0.10.4\n",
            "  Downloading python_dotenv-0.21.0-py3-none-any.whl (18 kB)\n",
            "Requirement already satisfied: python-dateutil>=2.7.0 in /usr/local/lib/python3.8/dist-packages (from pystac>=1.0.0->planetary_computer) (2.8.2)\n",
            "Requirement already satisfied: charset-normalizer<4,>=2 in /usr/local/lib/python3.8/dist-packages (from requests>=2.25.1->planetary_computer) (2.1.1)\n",
            "Requirement already satisfied: idna<4,>=2.5 in /usr/local/lib/python3.8/dist-packages (from requests>=2.25.1->planetary_computer) (2.10)\n",
            "Requirement already satisfied: certifi>=2017.4.17 in /usr/local/lib/python3.8/dist-packages (from requests>=2.25.1->planetary_computer) (2022.12.7)\n",
            "Requirement already satisfied: urllib3<1.27,>=1.21.1 in /usr/local/lib/python3.8/dist-packages (from requests>=2.25.1->planetary_computer) (1.24.3)\n",
            "Requirement already satisfied: six>=1.5 in /usr/local/lib/python3.8/dist-packages (from python-dateutil>=2.7.0->pystac>=1.0.0->planetary_computer) (1.15.0)\n",
            "Installing collected packages: python-dotenv, planetary_computer\n",
            "Successfully installed planetary_computer-0.4.9 python-dotenv-0.21.0\n",
            "Looking in indexes: https://pypi.org/simple, https://us-python.pkg.dev/colab-wheels/public/simple/\n",
            "Collecting odc.stac\n",
            "  Downloading odc_stac-0.3.4-py3-none-any.whl (55 kB)\n",
            "\u001b[2K     \u001b[90m━━━━━━━━━━━━━━━━━━━━━━━━━━━━━━━━━━━━━━━\u001b[0m \u001b[32m55.9/55.9 KB\u001b[0m \u001b[31m879.8 kB/s\u001b[0m eta \u001b[36m0:00:00\u001b[0m\n",
            "\u001b[?25hCollecting affine\n",
            "  Downloading affine-2.3.1-py2.py3-none-any.whl (16 kB)\n",
            "Requirement already satisfied: xarray>=0.19 in /usr/local/lib/python3.8/dist-packages (from odc.stac) (2022.12.0)\n",
            "Requirement already satisfied: dask[array] in /usr/local/lib/python3.8/dist-packages (from odc.stac) (2022.2.1)\n",
            "Requirement already satisfied: toolz in /usr/local/lib/python3.8/dist-packages (from odc.stac) (0.12.0)\n",
            "Collecting odc-geo>=0.3.0\n",
            "  Downloading odc_geo-0.3.3-py3-none-any.whl (114 kB)\n",
            "\u001b[2K     \u001b[90m━━━━━━━━━━━━━━━━━━━━━━━━━━━━━━━━━━━━━━━\u001b[0m \u001b[32m114.4/114.4 KB\u001b[0m \u001b[31m8.5 MB/s\u001b[0m eta \u001b[36m0:00:00\u001b[0m\n",
            "\u001b[?25hRequirement already satisfied: pystac<2,>=1.0.0 in /usr/local/lib/python3.8/dist-packages (from odc.stac) (1.6.1)\n",
            "Requirement already satisfied: pandas in /usr/local/lib/python3.8/dist-packages (from odc.stac) (1.3.5)\n",
            "Requirement already satisfied: numpy>=1.20.0 in /usr/local/lib/python3.8/dist-packages (from odc.stac) (1.21.6)\n",
            "Collecting rasterio!=1.3.0,!=1.3.1,>=1.0.0\n",
            "  Downloading rasterio-1.3.4-cp38-cp38-manylinux_2_17_x86_64.manylinux2014_x86_64.whl (20.9 MB)\n",
            "\u001b[2K     \u001b[90m━━━━━━━━━━━━━━━━━━━━━━━━━━━━━━━━━━━━━━━━\u001b[0m \u001b[32m20.9/20.9 MB\u001b[0m \u001b[31m21.5 MB/s\u001b[0m eta \u001b[36m0:00:00\u001b[0m\n",
            "\u001b[?25hRequirement already satisfied: shapely in /usr/local/lib/python3.8/dist-packages (from odc-geo>=0.3.0->odc.stac) (2.0.0)\n",
            "Requirement already satisfied: cachetools in /usr/local/lib/python3.8/dist-packages (from odc-geo>=0.3.0->odc.stac) (5.2.0)\n",
            "Collecting pyproj>=3.0.0\n",
            "  Downloading pyproj-3.4.1-cp38-cp38-manylinux_2_17_x86_64.manylinux2014_x86_64.whl (7.8 MB)\n",
            "\u001b[2K     \u001b[90m━━━━━━━━━━━━━━━━━━━━━━━━━━━━━━━━━━━━━━━━\u001b[0m \u001b[32m7.8/7.8 MB\u001b[0m \u001b[31m59.8 MB/s\u001b[0m eta \u001b[36m0:00:00\u001b[0m\n",
            "\u001b[?25hRequirement already satisfied: python-dateutil>=2.7.0 in /usr/local/lib/python3.8/dist-packages (from pystac<2,>=1.0.0->odc.stac) (2.8.2)\n",
            "Requirement already satisfied: certifi in /usr/local/lib/python3.8/dist-packages (from rasterio!=1.3.0,!=1.3.1,>=1.0.0->odc.stac) (2022.12.7)\n",
            "Requirement already satisfied: click>=4.0 in /usr/local/lib/python3.8/dist-packages (from rasterio!=1.3.0,!=1.3.1,>=1.0.0->odc.stac) (7.1.2)\n",
            "Requirement already satisfied: attrs in /usr/local/lib/python3.8/dist-packages (from rasterio!=1.3.0,!=1.3.1,>=1.0.0->odc.stac) (22.2.0)\n",
            "Collecting cligj>=0.5\n",
            "  Downloading cligj-0.7.2-py3-none-any.whl (7.1 kB)\n",
            "Collecting snuggs>=1.4.1\n",
            "  Downloading snuggs-1.4.7-py3-none-any.whl (5.4 kB)\n",
            "Requirement already satisfied: setuptools in /usr/local/lib/python3.8/dist-packages (from rasterio!=1.3.0,!=1.3.1,>=1.0.0->odc.stac) (57.4.0)\n",
            "Collecting click-plugins\n",
            "  Downloading click_plugins-1.1.1-py2.py3-none-any.whl (7.5 kB)\n",
            "Requirement already satisfied: packaging>=21.3 in /usr/local/lib/python3.8/dist-packages (from xarray>=0.19->odc.stac) (21.3)\n",
            "Requirement already satisfied: pytz>=2017.3 in /usr/local/lib/python3.8/dist-packages (from pandas->odc.stac) (2022.7)\n",
            "Requirement already satisfied: partd>=0.3.10 in /usr/local/lib/python3.8/dist-packages (from dask[array]->odc.stac) (1.3.0)\n",
            "Requirement already satisfied: cloudpickle>=1.1.1 in /usr/local/lib/python3.8/dist-packages (from dask[array]->odc.stac) (2.2.0)\n",
            "Requirement already satisfied: pyyaml>=5.3.1 in /usr/local/lib/python3.8/dist-packages (from dask[array]->odc.stac) (6.0)\n",
            "Requirement already satisfied: fsspec>=0.6.0 in /usr/local/lib/python3.8/dist-packages (from dask[array]->odc.stac) (2022.11.0)\n",
            "Requirement already satisfied: pyparsing!=3.0.5,>=2.0.2 in /usr/local/lib/python3.8/dist-packages (from packaging>=21.3->xarray>=0.19->odc.stac) (3.0.9)\n",
            "Requirement already satisfied: locket in /usr/local/lib/python3.8/dist-packages (from partd>=0.3.10->dask[array]->odc.stac) (1.0.0)\n",
            "Requirement already satisfied: six>=1.5 in /usr/local/lib/python3.8/dist-packages (from python-dateutil>=2.7.0->pystac<2,>=1.0.0->odc.stac) (1.15.0)\n",
            "Installing collected packages: affine, snuggs, pyproj, cligj, click-plugins, rasterio, odc-geo, odc.stac\n",
            "Successfully installed affine-2.3.1 click-plugins-1.1.1 cligj-0.7.2 odc-geo-0.3.3 odc.stac-0.3.4 pyproj-3.4.1 rasterio-1.3.4 snuggs-1.4.7\n"
          ]
        }
      ],
      "source": [
        "#!pip install pycaret\n",
        "!pip install pystac_client\n",
        "!pip install planetary_computer\n",
        "!pip install odc.stac"
      ]
    },
    {
      "cell_type": "code",
      "source": [
        "#imports\n",
        "import warnings\n",
        "warnings.filterwarnings('ignore')\n",
        "import pandas as pd\n",
        "import numpy as np\n",
        "import matplotlib.pyplot as plt\n",
        "import seaborn as sn\n",
        "from sklearn.model_selection import train_test_split\n",
        "import pystac_client\n",
        "import planetary_computer\n",
        "import odc.stac\n",
        "from pystac.extensions.eo import EOExtension as eo\n",
        "from skimage.transform import resize"
      ],
      "metadata": {
        "id": "Lyru0T2PN00F"
      },
      "execution_count": null,
      "outputs": []
    },
    {
      "cell_type": "code",
      "source": [
        "metadata=pd.read_csv('metadata.csv')\n",
        "train_y=pd.read_csv('train_labels.csv')\n",
        "submission=pd.read_csv('submission_format.csv')\n",
        "new = metadata[\"date\"].str.split(\"-\", expand = True)\n",
        "metadata['year']=new[0].astype(int)\n",
        "metadata['month']=new[1].astype(int)\n",
        "metadata['day']=new[2].astype(int)\n",
        "metadata"
      ],
      "metadata": {
        "colab": {
          "base_uri": "https://localhost:8080/",
          "height": 423
        },
        "id": "gkjTCn_TN1rE",
        "outputId": "a496a205-af72-4c60-8273-fb17fbcc270b"
      },
      "execution_count": null,
      "outputs": [
        {
          "output_type": "execute_result",
          "data": {
            "text/plain": [
              "        uid   latitude   longitude        date  split  year  month  day\n",
              "0      aabm  39.080319  -86.430867  2018-05-14  train  2018      5   14\n",
              "1      aabn  36.559700 -121.510000  2016-08-31   test  2016      8   31\n",
              "2      aacd  35.875083  -78.878434  2020-11-19  train  2020     11   19\n",
              "3      aaee  35.487000  -79.062133  2016-08-24  train  2016      8   24\n",
              "4      aaff  38.049471  -99.827001  2019-07-23  train  2019      7   23\n",
              "...     ...        ...         ...         ...    ...   ...    ...  ...\n",
              "23565  zzvv  36.708500 -121.749000  2014-12-02   test  2014     12    2\n",
              "23566  zzwo  39.792190  -99.971050  2017-06-19  train  2017      6   19\n",
              "23567  zzwq  35.794000  -79.012551  2015-03-24  train  2015      3   24\n",
              "23568  zzyb  35.742000  -79.238600  2016-11-21  train  2016     11   21\n",
              "23569  zzzi  39.767323  -96.028617  2015-08-31   test  2015      8   31\n",
              "\n",
              "[23570 rows x 8 columns]"
            ],
            "text/html": [
              "\n",
              "  <div id=\"df-886cba21-1575-4940-bcad-79f292971f21\">\n",
              "    <div class=\"colab-df-container\">\n",
              "      <div>\n",
              "<style scoped>\n",
              "    .dataframe tbody tr th:only-of-type {\n",
              "        vertical-align: middle;\n",
              "    }\n",
              "\n",
              "    .dataframe tbody tr th {\n",
              "        vertical-align: top;\n",
              "    }\n",
              "\n",
              "    .dataframe thead th {\n",
              "        text-align: right;\n",
              "    }\n",
              "</style>\n",
              "<table border=\"1\" class=\"dataframe\">\n",
              "  <thead>\n",
              "    <tr style=\"text-align: right;\">\n",
              "      <th></th>\n",
              "      <th>uid</th>\n",
              "      <th>latitude</th>\n",
              "      <th>longitude</th>\n",
              "      <th>date</th>\n",
              "      <th>split</th>\n",
              "      <th>year</th>\n",
              "      <th>month</th>\n",
              "      <th>day</th>\n",
              "    </tr>\n",
              "  </thead>\n",
              "  <tbody>\n",
              "    <tr>\n",
              "      <th>0</th>\n",
              "      <td>aabm</td>\n",
              "      <td>39.080319</td>\n",
              "      <td>-86.430867</td>\n",
              "      <td>2018-05-14</td>\n",
              "      <td>train</td>\n",
              "      <td>2018</td>\n",
              "      <td>5</td>\n",
              "      <td>14</td>\n",
              "    </tr>\n",
              "    <tr>\n",
              "      <th>1</th>\n",
              "      <td>aabn</td>\n",
              "      <td>36.559700</td>\n",
              "      <td>-121.510000</td>\n",
              "      <td>2016-08-31</td>\n",
              "      <td>test</td>\n",
              "      <td>2016</td>\n",
              "      <td>8</td>\n",
              "      <td>31</td>\n",
              "    </tr>\n",
              "    <tr>\n",
              "      <th>2</th>\n",
              "      <td>aacd</td>\n",
              "      <td>35.875083</td>\n",
              "      <td>-78.878434</td>\n",
              "      <td>2020-11-19</td>\n",
              "      <td>train</td>\n",
              "      <td>2020</td>\n",
              "      <td>11</td>\n",
              "      <td>19</td>\n",
              "    </tr>\n",
              "    <tr>\n",
              "      <th>3</th>\n",
              "      <td>aaee</td>\n",
              "      <td>35.487000</td>\n",
              "      <td>-79.062133</td>\n",
              "      <td>2016-08-24</td>\n",
              "      <td>train</td>\n",
              "      <td>2016</td>\n",
              "      <td>8</td>\n",
              "      <td>24</td>\n",
              "    </tr>\n",
              "    <tr>\n",
              "      <th>4</th>\n",
              "      <td>aaff</td>\n",
              "      <td>38.049471</td>\n",
              "      <td>-99.827001</td>\n",
              "      <td>2019-07-23</td>\n",
              "      <td>train</td>\n",
              "      <td>2019</td>\n",
              "      <td>7</td>\n",
              "      <td>23</td>\n",
              "    </tr>\n",
              "    <tr>\n",
              "      <th>...</th>\n",
              "      <td>...</td>\n",
              "      <td>...</td>\n",
              "      <td>...</td>\n",
              "      <td>...</td>\n",
              "      <td>...</td>\n",
              "      <td>...</td>\n",
              "      <td>...</td>\n",
              "      <td>...</td>\n",
              "    </tr>\n",
              "    <tr>\n",
              "      <th>23565</th>\n",
              "      <td>zzvv</td>\n",
              "      <td>36.708500</td>\n",
              "      <td>-121.749000</td>\n",
              "      <td>2014-12-02</td>\n",
              "      <td>test</td>\n",
              "      <td>2014</td>\n",
              "      <td>12</td>\n",
              "      <td>2</td>\n",
              "    </tr>\n",
              "    <tr>\n",
              "      <th>23566</th>\n",
              "      <td>zzwo</td>\n",
              "      <td>39.792190</td>\n",
              "      <td>-99.971050</td>\n",
              "      <td>2017-06-19</td>\n",
              "      <td>train</td>\n",
              "      <td>2017</td>\n",
              "      <td>6</td>\n",
              "      <td>19</td>\n",
              "    </tr>\n",
              "    <tr>\n",
              "      <th>23567</th>\n",
              "      <td>zzwq</td>\n",
              "      <td>35.794000</td>\n",
              "      <td>-79.012551</td>\n",
              "      <td>2015-03-24</td>\n",
              "      <td>train</td>\n",
              "      <td>2015</td>\n",
              "      <td>3</td>\n",
              "      <td>24</td>\n",
              "    </tr>\n",
              "    <tr>\n",
              "      <th>23568</th>\n",
              "      <td>zzyb</td>\n",
              "      <td>35.742000</td>\n",
              "      <td>-79.238600</td>\n",
              "      <td>2016-11-21</td>\n",
              "      <td>train</td>\n",
              "      <td>2016</td>\n",
              "      <td>11</td>\n",
              "      <td>21</td>\n",
              "    </tr>\n",
              "    <tr>\n",
              "      <th>23569</th>\n",
              "      <td>zzzi</td>\n",
              "      <td>39.767323</td>\n",
              "      <td>-96.028617</td>\n",
              "      <td>2015-08-31</td>\n",
              "      <td>test</td>\n",
              "      <td>2015</td>\n",
              "      <td>8</td>\n",
              "      <td>31</td>\n",
              "    </tr>\n",
              "  </tbody>\n",
              "</table>\n",
              "<p>23570 rows × 8 columns</p>\n",
              "</div>\n",
              "      <button class=\"colab-df-convert\" onclick=\"convertToInteractive('df-886cba21-1575-4940-bcad-79f292971f21')\"\n",
              "              title=\"Convert this dataframe to an interactive table.\"\n",
              "              style=\"display:none;\">\n",
              "        \n",
              "  <svg xmlns=\"http://www.w3.org/2000/svg\" height=\"24px\"viewBox=\"0 0 24 24\"\n",
              "       width=\"24px\">\n",
              "    <path d=\"M0 0h24v24H0V0z\" fill=\"none\"/>\n",
              "    <path d=\"M18.56 5.44l.94 2.06.94-2.06 2.06-.94-2.06-.94-.94-2.06-.94 2.06-2.06.94zm-11 1L8.5 8.5l.94-2.06 2.06-.94-2.06-.94L8.5 2.5l-.94 2.06-2.06.94zm10 10l.94 2.06.94-2.06 2.06-.94-2.06-.94-.94-2.06-.94 2.06-2.06.94z\"/><path d=\"M17.41 7.96l-1.37-1.37c-.4-.4-.92-.59-1.43-.59-.52 0-1.04.2-1.43.59L10.3 9.45l-7.72 7.72c-.78.78-.78 2.05 0 2.83L4 21.41c.39.39.9.59 1.41.59.51 0 1.02-.2 1.41-.59l7.78-7.78 2.81-2.81c.8-.78.8-2.07 0-2.86zM5.41 20L4 18.59l7.72-7.72 1.47 1.35L5.41 20z\"/>\n",
              "  </svg>\n",
              "      </button>\n",
              "      \n",
              "  <style>\n",
              "    .colab-df-container {\n",
              "      display:flex;\n",
              "      flex-wrap:wrap;\n",
              "      gap: 12px;\n",
              "    }\n",
              "\n",
              "    .colab-df-convert {\n",
              "      background-color: #E8F0FE;\n",
              "      border: none;\n",
              "      border-radius: 50%;\n",
              "      cursor: pointer;\n",
              "      display: none;\n",
              "      fill: #1967D2;\n",
              "      height: 32px;\n",
              "      padding: 0 0 0 0;\n",
              "      width: 32px;\n",
              "    }\n",
              "\n",
              "    .colab-df-convert:hover {\n",
              "      background-color: #E2EBFA;\n",
              "      box-shadow: 0px 1px 2px rgba(60, 64, 67, 0.3), 0px 1px 3px 1px rgba(60, 64, 67, 0.15);\n",
              "      fill: #174EA6;\n",
              "    }\n",
              "\n",
              "    [theme=dark] .colab-df-convert {\n",
              "      background-color: #3B4455;\n",
              "      fill: #D2E3FC;\n",
              "    }\n",
              "\n",
              "    [theme=dark] .colab-df-convert:hover {\n",
              "      background-color: #434B5C;\n",
              "      box-shadow: 0px 1px 3px 1px rgba(0, 0, 0, 0.15);\n",
              "      filter: drop-shadow(0px 1px 2px rgba(0, 0, 0, 0.3));\n",
              "      fill: #FFFFFF;\n",
              "    }\n",
              "  </style>\n",
              "\n",
              "      <script>\n",
              "        const buttonEl =\n",
              "          document.querySelector('#df-886cba21-1575-4940-bcad-79f292971f21 button.colab-df-convert');\n",
              "        buttonEl.style.display =\n",
              "          google.colab.kernel.accessAllowed ? 'block' : 'none';\n",
              "\n",
              "        async function convertToInteractive(key) {\n",
              "          const element = document.querySelector('#df-886cba21-1575-4940-bcad-79f292971f21');\n",
              "          const dataTable =\n",
              "            await google.colab.kernel.invokeFunction('convertToInteractive',\n",
              "                                                     [key], {});\n",
              "          if (!dataTable) return;\n",
              "\n",
              "          const docLinkHtml = 'Like what you see? Visit the ' +\n",
              "            '<a target=\"_blank\" href=https://colab.research.google.com/notebooks/data_table.ipynb>data table notebook</a>'\n",
              "            + ' to learn more about interactive tables.';\n",
              "          element.innerHTML = '';\n",
              "          dataTable['output_type'] = 'display_data';\n",
              "          await google.colab.output.renderOutput(dataTable, element);\n",
              "          const docLink = document.createElement('div');\n",
              "          docLink.innerHTML = docLinkHtml;\n",
              "          element.appendChild(docLink);\n",
              "        }\n",
              "      </script>\n",
              "    </div>\n",
              "  </div>\n",
              "  "
            ]
          },
          "metadata": {},
          "execution_count": 3
        }
      ]
    },
    {
      "cell_type": "code",
      "source": [
        "df=metadata.set_index('uid').join(train_y.set_index('uid'))\n",
        "new = df[\"date\"].str.split(\"-\", expand = True)\n",
        "df['year']=new[0].astype(int)\n",
        "df['month']=new[1].astype(int)\n",
        "df['day']=new[2].astype(int)\n",
        "#add seasons based on month\n",
        "df['season']=df['month']\n",
        "df['season'].replace([1,11,12],value=4, inplace=True)\n",
        "df['season'].replace([2,3,4],value=1, inplace=True)\n",
        "df['season'].replace([5,6,7],value=2, inplace=True)\n",
        "df['season'].replace([8,9,10], value=3, inplace=True)\n",
        "df.reset_index(inplace=True)\n",
        "df['region'].replace(['midwest', 'south', 'west', 'northeast'],\n",
        "                        [0, 1, 2, 3], inplace=True)\n",
        "submission['region'].replace(['midwest', 'south', 'west', 'northeast'],\n",
        "                        [0, 1, 2, 3], inplace=True)"
      ],
      "metadata": {
        "id": "7d-6OCmCytgD"
      },
      "execution_count": null,
      "outputs": []
    },
    {
      "cell_type": "code",
      "source": [
        "def int_to_date(year,month, day):\n",
        "  s=str(year)+'-'+str(month)+'-'+str(day)\n",
        "  return s\n",
        "\n",
        "int_to_date(2020,3,4)"
      ],
      "metadata": {
        "colab": {
          "base_uri": "https://localhost:8080/",
          "height": 36
        },
        "id": "mKmnPXseRz1e",
        "outputId": "138dc671-9ab5-48e0-ed53-7ef9698e5ac3"
      },
      "execution_count": null,
      "outputs": [
        {
          "output_type": "execute_result",
          "data": {
            "text/plain": [
              "'2020-3-4'"
            ],
            "application/vnd.google.colaboratory.intrinsic+json": {
              "type": "string"
            }
          },
          "metadata": {},
          "execution_count": 5
        }
      ]
    },
    {
      "cell_type": "code",
      "source": [
        "def get_selected_item(time_of_interest, bbox_of_interest,cover):\n",
        "  search = catalog.search(\n",
        "      collections=[\"landsat-c2-l2\",\"landsat-c2-l1\"],\n",
        "      bbox=bbox_of_interest,\n",
        "      datetime=time_of_interest,\n",
        "      query={\"eo:cloud_cover\": {\"lt\": cover}},\n",
        "  )\n",
        "\n",
        "  items = search.item_collection()\n",
        "  #try catch start for not enough data or \n",
        "  selected_item = min(items, key=lambda item: eo.ext(item).cloud_cover)\n",
        "  return selected_item"
      ],
      "metadata": {
        "id": "dvXs884GOCG6"
      },
      "execution_count": null,
      "outputs": []
    },
    {
      "cell_type": "code",
      "source": [
        "def get_date(selected_item,bands_of_interest,bbox_of_interest):\n",
        "  data = odc.stac.stac_load(\n",
        "      [selected_item], bands=bands_of_interest, bbox=bbox_of_interest\n",
        "  ).isel(time=0)\n",
        "  return data\n"
      ],
      "metadata": {
        "id": "G_mvjkQXOEJ_"
      },
      "execution_count": null,
      "outputs": []
    },
    {
      "cell_type": "code",
      "source": [
        "def get_temp(selected_item,data):\n",
        "  band_info = selected_item.assets[\"lwir11\"].extra_fields[\"raster:bands\"][0]\n",
        "  temperature = data[\"lwir11\"].astype(float)\n",
        "  temperature *= band_info[\"scale\"]\n",
        "  temperature += band_info[\"offset\"]\n",
        "  celsius=temperature - 273.15\n",
        "  return celsius"
      ],
      "metadata": {
        "id": "t0Ui-xhqW8w7"
      },
      "execution_count": null,
      "outputs": []
    },
    {
      "cell_type": "code",
      "source": [
        "def get_ndvi(data):\n",
        "  red = data[\"red\"].astype(\"float\")\n",
        "  nir = data[\"nir08\"].astype(\"float\")\n",
        "  return (nir - red) / (nir + red)\n"
      ],
      "metadata": {
        "id": "1FqWpgZYuH_e"
      },
      "execution_count": null,
      "outputs": []
    },
    {
      "cell_type": "code",
      "source": [
        "#put data into condensed images\n",
        "size=32\n",
        "offset=.005\n",
        "cover=40\n",
        "catalog = pystac_client.Client.open(\n",
        "    \"https://planetarycomputer.microsoft.com/api/stac/v1\",\n",
        "    modifier=planetary_computer.sign_inplace,\n",
        ")\n",
        "bands_of_interest = [\"red\",\"nir08\"]\n"
      ],
      "metadata": {
        "id": "2G0DI_M1N50g"
      },
      "execution_count": null,
      "outputs": []
    },
    {
      "cell_type": "code",
      "source": [
        "#start looping\n",
        "longs=35.875083\n",
        "lat=-78.878434\n",
        "year=2020\n",
        "month=11\n",
        "day=19\n",
        "bbox_of_interest = [lat-offset, longs-offset, lat+offset, longs+offset]\n",
        "#get date from a month of time and put in string format or month prior\n",
        "time_of_interest=int_to_date(year,month,day)+\"/\"+int_to_date(year,month+1,1)\n",
        "time_of_interest"
      ],
      "metadata": {
        "id": "yZHxRwYcOAGL",
        "colab": {
          "base_uri": "https://localhost:8080/",
          "height": 36
        },
        "outputId": "22d13bc7-e3f3-47e0-b403-0a1c4241421f"
      },
      "execution_count": null,
      "outputs": [
        {
          "output_type": "execute_result",
          "data": {
            "text/plain": [
              "'2020-11-19/2020-12-1'"
            ],
            "application/vnd.google.colaboratory.intrinsic+json": {
              "type": "string"
            }
          },
          "metadata": {},
          "execution_count": 11
        }
      ]
    },
    {
      "cell_type": "code",
      "source": [
        "def get_stemp(bands_of_interest,bbox_of_interest,time_of_interest,size,cover):\n",
        "  try:\n",
        "    selected_item=get_selected_item(time_of_interest, bbox_of_interest,cover)\n",
        "    data=get_date(selected_item,bands_of_interest,bbox_of_interest)\n",
        "    celsius=get_temp(selected_item,data)\n",
        "    return resize(celsius, (size, size), anti_aliasing=True)\n",
        "  except:\n",
        "    return None\n",
        "\n",
        "i=get_stemp(bands_of_interest,bbox_of_interest,time_of_interest,size,cover)"
      ],
      "metadata": {
        "id": "LOCAWWY7FRN2"
      },
      "execution_count": null,
      "outputs": []
    },
    {
      "cell_type": "code",
      "source": [
        "def get_sndvi(bands_of_interest,bbox_of_interest,time_of_interest,size,cover):\n",
        "  try:\n",
        "    selected_item=get_selected_item(time_of_interest, bbox_of_interest,cover)\n",
        "    data=get_date(selected_item,bands_of_interest,bbox_of_interest)\n",
        "    ndvi=get_ndvi(data)\n",
        "    return resize(ndvi, (size, size), anti_aliasing=True)\n",
        "  except:\n",
        "    return None\n",
        "\n",
        "i=get_sndvi(bands_of_interest,bbox_of_interest,time_of_interest,size,cover)"
      ],
      "metadata": {
        "id": "5ssYGnUB8xbY"
      },
      "execution_count": null,
      "outputs": []
    },
    {
      "cell_type": "code",
      "source": [
        "print(len(df))\n",
        "sn.heatmap(i, square=True)"
      ],
      "metadata": {
        "colab": {
          "base_uri": "https://localhost:8080/",
          "height": 302
        },
        "id": "zPutbxW4B_ql",
        "outputId": "82402a66-8e0e-414b-d889-1f3cb62430f6"
      },
      "execution_count": null,
      "outputs": [
        {
          "output_type": "stream",
          "name": "stdout",
          "text": [
            "23570\n"
          ]
        },
        {
          "output_type": "execute_result",
          "data": {
            "text/plain": [
              "<matplotlib.axes._subplots.AxesSubplot at 0x7f7db96dfca0>"
            ]
          },
          "metadata": {},
          "execution_count": 24
        },
        {
          "output_type": "display_data",
          "data": {
            "text/plain": [
              "<Figure size 432x288 with 2 Axes>"
            ],
            "image/png": "[encoded data removed]"
          },
          "metadata": {
            "needs_background": "light"
          }
        }
      ]
    },
    {
      "cell_type": "code",
      "source": [
        "def add_months_stemp(i,longs,lat,year,month,day):\n",
        "  print(i)\n",
        "  limit=5\n",
        "  add=1\n",
        "  if month+add>12:\n",
        "    time_of_interest=int_to_date(year,month,day)+\"/\"+int_to_date(year+1,month+add,1)\n",
        "  else:\n",
        "    time_of_interest=int_to_date(year,month,day)+\"/\"+int_to_date(year,month+add,1)\n",
        "  bbox_of_interest = [longs-offset, lat-offset, longs+offset, lat+offset]\n",
        "  return get_stemp(bands_of_interest,bbox_of_interest,time_of_interest,size,cover)\n",
        "    "
      ],
      "metadata": {
        "id": "ha0tdHE_9JWf"
      },
      "execution_count": null,
      "outputs": []
    },
    {
      "cell_type": "code",
      "source": [
        "def add_months_sndvi(i,longs,lat,year,month,day):\n",
        "  print(i)\n",
        "  limit=5\n",
        "  add=1\n",
        "  if month+add>12:\n",
        "    time_of_interest=int_to_date(year,month,day)+\"/\"+int_to_date(year+1,month+add,1)\n",
        "  else:\n",
        "    time_of_interest=int_to_date(year,month,day)+\"/\"+int_to_date(year,month+add,1)\n",
        "  bbox_of_interest = [longs-offset, lat-offset, longs+offset, lat+offset]\n",
        "  return get_sndvi(bands_of_interest,bbox_of_interest,time_of_interest,size,cover)"
      ],
      "metadata": {
        "id": "h3zL_ayb-WZ9"
      },
      "execution_count": null,
      "outputs": []
    },
    {
      "cell_type": "code",
      "source": [
        "#turn into a loop that goes thru each 200 and saves into images with names being the uid in a directory then add a check if the first file already exsists before starting \n",
        "import time\n",
        "import concurrent\n",
        "s=time.perf_counter()\n",
        "r=[]\n",
        "df_2=pd.DataFrame(df, columns = [ 'longitude', 'latitude','year', 'month', 'day'])\n",
        "df_3=df_2.head(100)\n",
        "with concurrent.futures.ThreadPoolExecutor(max_workers=10) as executer:\n",
        "  y=range(len(df_3))\n",
        "  r=zip(y, executer.map(add_months_sndvi,y,df_3['longitude'],df_3['latitude'],df_3['year'],df_3['month'],df_3['day']))\n",
        "f=time.perf_counter()\n",
        "print('threaded time=',f-s)"
      ],
      "metadata": {
        "colab": {
          "base_uri": "https://localhost:8080/"
        },
        "id": "SmFV-k-szNTF",
        "outputId": "026dd0d2-b1dd-49ac-d302-00d9dab71a9a"
      },
      "execution_count": null,
      "outputs": [
        {
          "output_type": "stream",
          "name": "stdout",
          "text": [
            "0\n",
            "1\n",
            "23\n",
            "\n",
            "4\n",
            "5\n",
            "6\n",
            "78\n",
            "\n",
            "9\n",
            "10\n",
            "11\n",
            "12\n",
            "13\n",
            "14\n",
            "15\n",
            "16\n",
            "17\n",
            "18\n",
            "19\n",
            "20\n",
            "21\n",
            "22\n",
            "23\n",
            "24\n",
            "25\n",
            "26\n",
            "27\n",
            "28\n",
            "29\n",
            "30\n",
            "31\n",
            "32\n",
            "33\n",
            "34\n",
            "35\n",
            "36\n",
            "37\n",
            "38\n",
            "39\n",
            "40\n",
            "41\n",
            "42\n",
            "43\n",
            "44\n",
            "45\n",
            "46\n",
            "47\n",
            "4849\n",
            "\n",
            "50\n",
            "51\n",
            "52\n",
            "53\n",
            "54\n",
            "55\n",
            "56\n",
            "57\n",
            "58\n",
            "59\n",
            "60\n",
            "61\n",
            "62\n",
            "63\n",
            "64\n",
            "65\n",
            "66\n",
            "67\n",
            "68\n",
            "69\n",
            "70\n",
            "71\n",
            "72\n",
            "73\n",
            "74\n",
            "75\n",
            "76\n",
            "77\n",
            "78\n",
            "79\n",
            "80\n",
            "81\n",
            "82\n",
            "83\n",
            "84\n",
            "85\n",
            "86\n",
            "87\n",
            "88\n",
            "89\n",
            "90\n",
            "91\n",
            "92\n",
            "93\n",
            "94\n",
            "95\n",
            "96\n",
            "97\n",
            "98\n",
            "99\n",
            "threaded time= 74.2450267050001\n"
          ]
        }
      ]
    },
    {
      "cell_type": "code",
      "source": [
        "results=list(r)\n",
        "c=0\n",
        "for i,j in results:\n",
        "  if j is not None:\n",
        "    c+=1\n",
        "c/len(results)"
      ],
      "metadata": {
        "colab": {
          "base_uri": "https://localhost:8080/"
        },
        "id": "mdj8L9UM_i78",
        "outputId": "65ed471f-5c49-4c5d-aa2f-4a31bcbad02d"
      },
      "execution_count": null,
      "outputs": [
        {
          "output_type": "execute_result",
          "data": {
            "text/plain": [
              "0.97"
            ]
          },
          "metadata": {},
          "execution_count": 27
        }
      ]
    },
    {
      "cell_type": "code",
      "source": [],
      "metadata": {
        "id": "KjBm6TNgAV8M"
      },
      "execution_count": null,
      "outputs": []
    }
  ]
}